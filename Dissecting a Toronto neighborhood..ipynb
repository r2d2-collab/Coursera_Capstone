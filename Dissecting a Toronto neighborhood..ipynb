{
    "cells": [
        {
            "cell_type": "markdown",
            "metadata": {},
            "source": "Created a CSV file from the Wikipedia page using Excel and updloaded it to Github."
        },
        {
            "cell_type": "code",
            "execution_count": 1,
            "metadata": {},
            "outputs": [
                {
                    "name": "stdout",
                    "output_type": "stream",
                    "text": "--2020-01-30 20:51:28--  https://github.com/r2d2-collab/Data-Science/blob/master/Book1.csv?raw=true\nResolving github.com (github.com)... 140.82.114.3\nConnecting to github.com (github.com)|140.82.114.3|:443... connected.\nHTTP request sent, awaiting response... 302 Found\nLocation: https://github.com/r2d2-collab/Data-Science/raw/master/Book1.csv [following]\n--2020-01-30 20:51:28--  https://github.com/r2d2-collab/Data-Science/raw/master/Book1.csv\nReusing existing connection to github.com:443.\nHTTP request sent, awaiting response... 302 Found\nLocation: https://raw.githubusercontent.com/r2d2-collab/Data-Science/master/Book1.csv [following]\n--2020-01-30 20:51:29--  https://raw.githubusercontent.com/r2d2-collab/Data-Science/master/Book1.csv\nResolving raw.githubusercontent.com (raw.githubusercontent.com)... 199.232.8.133\nConnecting to raw.githubusercontent.com (raw.githubusercontent.com)|199.232.8.133|:443... connected.\nHTTP request sent, awaiting response... 200 OK\nLength: 7065 (6.9K) [text/plain]\nSaving to: \u2018book1.csv\u2019\n\n100%[======================================>] 7,065       --.-K/s   in 0s      \n\n2020-01-30 20:51:29 (40.9 MB/s) - \u2018book1.csv\u2019 saved [7065/7065]\n\n"
                }
            ],
            "source": "!wget -O book1.csv https://github.com/r2d2-collab/Data-Science/blob/master/Book1.csv?raw=true"
        },
        {
            "cell_type": "code",
            "execution_count": 3,
            "metadata": {},
            "outputs": [],
            "source": "import pandas as pd\ndf = pd.read_csv('book1.csv')\n"
        },
        {
            "cell_type": "code",
            "execution_count": 4,
            "metadata": {},
            "outputs": [
                {
                    "data": {
                        "text/html": "<div>\n<style scoped>\n    .dataframe tbody tr th:only-of-type {\n        vertical-align: middle;\n    }\n\n    .dataframe tbody tr th {\n        vertical-align: top;\n    }\n\n    .dataframe thead th {\n        text-align: right;\n    }\n</style>\n<table border=\"1\" class=\"dataframe\">\n  <thead>\n    <tr style=\"text-align: right;\">\n      <th></th>\n      <th>Postcode</th>\n      <th>Borough</th>\n      <th>Neighbourhood</th>\n    </tr>\n  </thead>\n  <tbody>\n    <tr>\n      <th>0</th>\n      <td>M1B</td>\n      <td>Scarborough</td>\n      <td>Rouge</td>\n    </tr>\n    <tr>\n      <th>1</th>\n      <td>M1B</td>\n      <td>Scarborough</td>\n      <td>Malvern</td>\n    </tr>\n    <tr>\n      <th>2</th>\n      <td>M1C</td>\n      <td>Scarborough</td>\n      <td>Highland Creek</td>\n    </tr>\n    <tr>\n      <th>3</th>\n      <td>M1C</td>\n      <td>Scarborough</td>\n      <td>Rouge Hill</td>\n    </tr>\n    <tr>\n      <th>4</th>\n      <td>M1C</td>\n      <td>Scarborough</td>\n      <td>Port Union</td>\n    </tr>\n  </tbody>\n</table>\n</div>",
                        "text/plain": "  Postcode       Borough    Neighbourhood\n0      M1B   Scarborough            Rouge\n1      M1B   Scarborough          Malvern\n2      M1C   Scarborough   Highland Creek\n3      M1C   Scarborough       Rouge Hill\n4      M1C   Scarborough       Port Union"
                    },
                    "execution_count": 4,
                    "metadata": {},
                    "output_type": "execute_result"
                }
            ],
            "source": "df.head()"
        },
        {
            "cell_type": "code",
            "execution_count": 5,
            "metadata": {},
            "outputs": [
                {
                    "data": {
                        "text/plain": "Index(['Postcode ', 'Borough ', 'Neighbourhood'], dtype='object')"
                    },
                    "execution_count": 5,
                    "metadata": {},
                    "output_type": "execute_result"
                }
            ],
            "source": "df.columns\n"
        },
        {
            "cell_type": "code",
            "execution_count": 52,
            "metadata": {},
            "outputs": [
                {
                    "data": {
                        "text/plain": "(210, 3)"
                    },
                    "execution_count": 52,
                    "metadata": {},
                    "output_type": "execute_result"
                }
            ],
            "source": "df.shape"
        },
        {
            "cell_type": "code",
            "execution_count": 7,
            "metadata": {},
            "outputs": [],
            "source": "df1 = df.groupby(['Postcode ','Borough '])['Neighbourhood'].apply(', '.join).reset_index()"
        },
        {
            "cell_type": "code",
            "execution_count": 9,
            "metadata": {},
            "outputs": [
                {
                    "data": {
                        "text/html": "<div>\n<style scoped>\n    .dataframe tbody tr th:only-of-type {\n        vertical-align: middle;\n    }\n\n    .dataframe tbody tr th {\n        vertical-align: top;\n    }\n\n    .dataframe thead th {\n        text-align: right;\n    }\n</style>\n<table border=\"1\" class=\"dataframe\">\n  <thead>\n    <tr style=\"text-align: right;\">\n      <th></th>\n      <th>Postcode</th>\n      <th>Borough</th>\n      <th>Neighbourhood</th>\n    </tr>\n  </thead>\n  <tbody>\n    <tr>\n      <th>0</th>\n      <td>M1B</td>\n      <td>Scarborough</td>\n      <td>Rouge, Malvern</td>\n    </tr>\n    <tr>\n      <th>1</th>\n      <td>M1C</td>\n      <td>Scarborough</td>\n      <td>Highland Creek, Rouge Hill, Port Union</td>\n    </tr>\n    <tr>\n      <th>2</th>\n      <td>M1E</td>\n      <td>Scarborough</td>\n      <td>Guildwood, Morningside, West Hill</td>\n    </tr>\n    <tr>\n      <th>3</th>\n      <td>M1G</td>\n      <td>Scarborough</td>\n      <td>Woburn</td>\n    </tr>\n    <tr>\n      <th>4</th>\n      <td>M1H</td>\n      <td>Scarborough</td>\n      <td>Cedarbrae</td>\n    </tr>\n  </tbody>\n</table>\n</div>",
                        "text/plain": "  Postcode       Borough                            Neighbourhood\n0      M1B   Scarborough                           Rouge, Malvern\n1      M1C   Scarborough   Highland Creek, Rouge Hill, Port Union\n2      M1E   Scarborough        Guildwood, Morningside, West Hill\n3      M1G   Scarborough                                   Woburn\n4      M1H   Scarborough                                Cedarbrae"
                    },
                    "execution_count": 9,
                    "metadata": {},
                    "output_type": "execute_result"
                }
            ],
            "source": "df1.head()"
        },
        {
            "cell_type": "code",
            "execution_count": 26,
            "metadata": {},
            "outputs": [],
            "source": "df1.columns = ['Postal Code','Borough','Neighbourhood']"
        },
        {
            "cell_type": "code",
            "execution_count": 34,
            "metadata": {},
            "outputs": [
                {
                    "data": {
                        "text/plain": "Index(['Postal Code', 'Borough', 'Neighbourhood'], dtype='object')"
                    },
                    "execution_count": 34,
                    "metadata": {},
                    "output_type": "execute_result"
                }
            ],
            "source": "df1.columns"
        },
        {
            "cell_type": "code",
            "execution_count": 57,
            "metadata": {},
            "outputs": [
                {
                    "data": {
                        "text/plain": "(103, 3)"
                    },
                    "execution_count": 57,
                    "metadata": {},
                    "output_type": "execute_result"
                }
            ],
            "source": "df1.shape"
        },
        {
            "cell_type": "code",
            "execution_count": 58,
            "metadata": {},
            "outputs": [
                {
                    "name": "stdout",
                    "output_type": "stream",
                    "text": "--2020-01-30 21:59:18--  https://cocl.us/Geospatial_data/Geospatial_Coordinates.csv\nResolving cocl.us (cocl.us)... 158.85.108.86, 169.48.113.194, 158.85.108.83\nConnecting to cocl.us (cocl.us)|158.85.108.86|:443... connected.\nHTTP request sent, awaiting response... 301 Moved Permanently\nLocation: https://ibm.box.com/shared/static/9afzr83pps4pwf2smjjcf1y5mvgb18rr.csv [following]\n--2020-01-30 21:59:21--  https://ibm.box.com/shared/static/9afzr83pps4pwf2smjjcf1y5mvgb18rr.csv\nResolving ibm.box.com (ibm.box.com)... 107.152.27.197, 107.152.26.197\nConnecting to ibm.box.com (ibm.box.com)|107.152.27.197|:443... connected.\nHTTP request sent, awaiting response... 301 Moved Permanently\nLocation: /public/static/9afzr83pps4pwf2smjjcf1y5mvgb18rr.csv [following]\n--2020-01-30 21:59:21--  https://ibm.box.com/public/static/9afzr83pps4pwf2smjjcf1y5mvgb18rr.csv\nReusing existing connection to ibm.box.com:443.\nHTTP request sent, awaiting response... 301 Moved Permanently\nLocation: https://ibm.ent.box.com/public/static/9afzr83pps4pwf2smjjcf1y5mvgb18rr.csv [following]\n--2020-01-30 21:59:21--  https://ibm.ent.box.com/public/static/9afzr83pps4pwf2smjjcf1y5mvgb18rr.csv\nResolving ibm.ent.box.com (ibm.ent.box.com)... 107.152.27.211, 107.152.26.211\nConnecting to ibm.ent.box.com (ibm.ent.box.com)|107.152.27.211|:443... connected.\nHTTP request sent, awaiting response... 302 Found\nLocation: https://public.boxcloud.com/d/1/b1!sZtAzQduXAJlEupwczbKZA8i52KTRTTAOGw2mzR4htXcom1kYrgwmbbQUM5TouinoaCYj1-s5i4e1jg7306-pfye09GGEEgAlOSNkZFFHZIO_jbIQQH84RQWDIfCspBHI48RZRUNN-4vtA9Zfy72apv6zomVaY_esdcehvTD1tf10Nf_tf75cpMu0z66xiOad2a75esdI6KkDqJARbx96nJUS7oUZcmwsCKs7L-7dsd14VT-OE6nNHzUtCGFrpbj0JxATMBsw7ySfGurvDWngFXNjQLPNvukeOXUb0MFfi5eojl9d7caVdC01ASr8h5y-8byVbcbrmIRnWcFICfaX3wi55L64EoixbknfeLrY2skgzDvUXOo_ZxcbasyHxz_H_IZHg3qHTNOhUe-b1BomzQz4BxcRXWjIDAWJrgY3UjE8YhP6kg6LeNQm57Gi67U-dESOhkVIVJhnH3lpmA3bCXhAc7FwR-x70asB5QhVClN1uUMKzqSxDwuWbsiA9G-LdrtrbhjkWNuFtJ2FzpTcnWzp0XhrOLIX85tQp8eGbvJvH1ZMmWfb2S0fC-qcT9FzUSH6JRxcGRqttgrvwOeBOEvTk8yG7Ra6spIutDSF-Uks9DMYm2--J1q8Sw0tTizrDMnGsdMz0xBqKTb9f3G8BezU46_4BhLLymVA5bdsG2tfealOWPhRBJzwdtk1Hpef7zUB7ys31re0owkUzJJz2vzRMMvXLN1QEUCS8x595zbODSfGszZcoKEfIFPMz3ThGd72Pmthrww4fU_6LEe-N2miErxXN4lZeh3YwNirF_cYPIH1KARdHO1epWYmc001Zuowp1Yuc_Hm3H8r6cdFTgQ3v6mG-F6Ba8Wj0ILRUZA8oHzWswaJPtTFmdczJJkUKFQ4zlpqbBk6q_uPmZAhIszyyJdE5DLlR0WGSaptigQxM3zJo96tk-K3y9BUDm5A5pIf2IrL9lL1oI3cEVViuNuMkzg7dLU_HQgu2-5JmAzoRRQbLNC54A2dKBKBW9hTvsCDILsBJAgw6iORVC0a5HCnZYUQcu3MwxjuRGtPSWRWVsW_QLisbELpxtUA3OnJd9pVNFCfb52fWulxYU6HVc-zuj2nEEVdLHyM27_m5dGoqfP5GD0K_QBNQXRmltNS1hY6XtKyiS_DowuI6xre1BqdFyBjxFNtGOj4uoRxAiy9RZpi2-JeZnR-5NX3PdSg2uKBO88KRwjy3-lHmfjqHV6l623jk_HPxhPkqQtKNWvIQ94WiJ8dDCMRfIodv7-C3aVUQyDPHWBR_yJNgHj2OiLlwcG3MvrYeYXF7_krSaTfl9b0VpHX9kqETul9LOh-3YX7g88D3mialb2cd45WRcukaKTd9dlJHuFA0Wxdm3wErfJL0-z-Xka_NY./download [following]\n--2020-01-30 21:59:22--  https://public.boxcloud.com/d/1/b1!sZtAzQduXAJlEupwczbKZA8i52KTRTTAOGw2mzR4htXcom1kYrgwmbbQUM5TouinoaCYj1-s5i4e1jg7306-pfye09GGEEgAlOSNkZFFHZIO_jbIQQH84RQWDIfCspBHI48RZRUNN-4vtA9Zfy72apv6zomVaY_esdcehvTD1tf10Nf_tf75cpMu0z66xiOad2a75esdI6KkDqJARbx96nJUS7oUZcmwsCKs7L-7dsd14VT-OE6nNHzUtCGFrpbj0JxATMBsw7ySfGurvDWngFXNjQLPNvukeOXUb0MFfi5eojl9d7caVdC01ASr8h5y-8byVbcbrmIRnWcFICfaX3wi55L64EoixbknfeLrY2skgzDvUXOo_ZxcbasyHxz_H_IZHg3qHTNOhUe-b1BomzQz4BxcRXWjIDAWJrgY3UjE8YhP6kg6LeNQm57Gi67U-dESOhkVIVJhnH3lpmA3bCXhAc7FwR-x70asB5QhVClN1uUMKzqSxDwuWbsiA9G-LdrtrbhjkWNuFtJ2FzpTcnWzp0XhrOLIX85tQp8eGbvJvH1ZMmWfb2S0fC-qcT9FzUSH6JRxcGRqttgrvwOeBOEvTk8yG7Ra6spIutDSF-Uks9DMYm2--J1q8Sw0tTizrDMnGsdMz0xBqKTb9f3G8BezU46_4BhLLymVA5bdsG2tfealOWPhRBJzwdtk1Hpef7zUB7ys31re0owkUzJJz2vzRMMvXLN1QEUCS8x595zbODSfGszZcoKEfIFPMz3ThGd72Pmthrww4fU_6LEe-N2miErxXN4lZeh3YwNirF_cYPIH1KARdHO1epWYmc001Zuowp1Yuc_Hm3H8r6cdFTgQ3v6mG-F6Ba8Wj0ILRUZA8oHzWswaJPtTFmdczJJkUKFQ4zlpqbBk6q_uPmZAhIszyyJdE5DLlR0WGSaptigQxM3zJo96tk-K3y9BUDm5A5pIf2IrL9lL1oI3cEVViuNuMkzg7dLU_HQgu2-5JmAzoRRQbLNC54A2dKBKBW9hTvsCDILsBJAgw6iORVC0a5HCnZYUQcu3MwxjuRGtPSWRWVsW_QLisbELpxtUA3OnJd9pVNFCfb52fWulxYU6HVc-zuj2nEEVdLHyM27_m5dGoqfP5GD0K_QBNQXRmltNS1hY6XtKyiS_DowuI6xre1BqdFyBjxFNtGOj4uoRxAiy9RZpi2-JeZnR-5NX3PdSg2uKBO88KRwjy3-lHmfjqHV6l623jk_HPxhPkqQtKNWvIQ94WiJ8dDCMRfIodv7-C3aVUQyDPHWBR_yJNgHj2OiLlwcG3MvrYeYXF7_krSaTfl9b0VpHX9kqETul9LOh-3YX7g88D3mialb2cd45WRcukaKTd9dlJHuFA0Wxdm3wErfJL0-z-Xka_NY./download\nResolving public.boxcloud.com (public.boxcloud.com)... 107.152.27.200\nConnecting to public.boxcloud.com (public.boxcloud.com)|107.152.27.200|:443... connected.\nHTTP request sent, awaiting response... 200 OK\nLength: 2891 (2.8K) [text/csv]\nSaving to: \u2018CA_Geodata.csv\u2019\n\n100%[======================================>] 2,891       --.-K/s   in 0s      \n\n2020-01-30 21:59:23 (259 MB/s) - \u2018CA_Geodata.csv\u2019 saved [2891/2891]\n\n"
                }
            ],
            "source": "!wget -O CA_Geodata.csv https://cocl.us/Geospatial_data/Geospatial_Coordinates.csv"
        },
        {
            "cell_type": "code",
            "execution_count": 59,
            "metadata": {},
            "outputs": [],
            "source": "import pandas as pd\ndf_CA = pd.read_csv('CA_Geodata.csv')"
        },
        {
            "cell_type": "code",
            "execution_count": 60,
            "metadata": {},
            "outputs": [
                {
                    "data": {
                        "text/html": "<div>\n<style scoped>\n    .dataframe tbody tr th:only-of-type {\n        vertical-align: middle;\n    }\n\n    .dataframe tbody tr th {\n        vertical-align: top;\n    }\n\n    .dataframe thead th {\n        text-align: right;\n    }\n</style>\n<table border=\"1\" class=\"dataframe\">\n  <thead>\n    <tr style=\"text-align: right;\">\n      <th></th>\n      <th>Postal Code</th>\n      <th>Latitude</th>\n      <th>Longitude</th>\n    </tr>\n  </thead>\n  <tbody>\n    <tr>\n      <th>0</th>\n      <td>M1B</td>\n      <td>43.806686</td>\n      <td>-79.194353</td>\n    </tr>\n    <tr>\n      <th>1</th>\n      <td>M1C</td>\n      <td>43.784535</td>\n      <td>-79.160497</td>\n    </tr>\n    <tr>\n      <th>2</th>\n      <td>M1E</td>\n      <td>43.763573</td>\n      <td>-79.188711</td>\n    </tr>\n    <tr>\n      <th>3</th>\n      <td>M1G</td>\n      <td>43.770992</td>\n      <td>-79.216917</td>\n    </tr>\n    <tr>\n      <th>4</th>\n      <td>M1H</td>\n      <td>43.773136</td>\n      <td>-79.239476</td>\n    </tr>\n  </tbody>\n</table>\n</div>",
                        "text/plain": "  Postal Code   Latitude  Longitude\n0         M1B  43.806686 -79.194353\n1         M1C  43.784535 -79.160497\n2         M1E  43.763573 -79.188711\n3         M1G  43.770992 -79.216917\n4         M1H  43.773136 -79.239476"
                    },
                    "execution_count": 60,
                    "metadata": {},
                    "output_type": "execute_result"
                }
            ],
            "source": "df_CA.head()"
        },
        {
            "cell_type": "code",
            "execution_count": 61,
            "metadata": {},
            "outputs": [
                {
                    "data": {
                        "text/plain": "Index(['Postal Code', 'Latitude', 'Longitude'], dtype='object')"
                    },
                    "execution_count": 61,
                    "metadata": {},
                    "output_type": "execute_result"
                }
            ],
            "source": "df_CA.columns"
        },
        {
            "cell_type": "code",
            "execution_count": 70,
            "metadata": {},
            "outputs": [],
            "source": "new_df = pd.merge(df1, df_CA, on='Postal Code', how = 'left')"
        },
        {
            "cell_type": "code",
            "execution_count": 69,
            "metadata": {},
            "outputs": [
                {
                    "data": {
                        "text/html": "<div>\n<style scoped>\n    .dataframe tbody tr th:only-of-type {\n        vertical-align: middle;\n    }\n\n    .dataframe tbody tr th {\n        vertical-align: top;\n    }\n\n    .dataframe thead th {\n        text-align: right;\n    }\n</style>\n<table border=\"1\" class=\"dataframe\">\n  <thead>\n    <tr style=\"text-align: right;\">\n      <th></th>\n      <th>Postal Code</th>\n      <th>Borough</th>\n      <th>Neighbourhood</th>\n      <th>Latitude</th>\n      <th>Longitude</th>\n    </tr>\n  </thead>\n  <tbody>\n    <tr>\n      <th>0</th>\n      <td>M1B</td>\n      <td>NaN</td>\n      <td>NaN</td>\n      <td>43.806686</td>\n      <td>-79.194353</td>\n    </tr>\n    <tr>\n      <th>1</th>\n      <td>M1C</td>\n      <td>NaN</td>\n      <td>NaN</td>\n      <td>43.784535</td>\n      <td>-79.160497</td>\n    </tr>\n    <tr>\n      <th>2</th>\n      <td>M1E</td>\n      <td>NaN</td>\n      <td>NaN</td>\n      <td>43.763573</td>\n      <td>-79.188711</td>\n    </tr>\n    <tr>\n      <th>3</th>\n      <td>M1G</td>\n      <td>NaN</td>\n      <td>NaN</td>\n      <td>43.770992</td>\n      <td>-79.216917</td>\n    </tr>\n    <tr>\n      <th>4</th>\n      <td>M1H</td>\n      <td>NaN</td>\n      <td>NaN</td>\n      <td>43.773136</td>\n      <td>-79.239476</td>\n    </tr>\n    <tr>\n      <th>5</th>\n      <td>M1J</td>\n      <td>NaN</td>\n      <td>NaN</td>\n      <td>43.744734</td>\n      <td>-79.239476</td>\n    </tr>\n    <tr>\n      <th>6</th>\n      <td>M1K</td>\n      <td>NaN</td>\n      <td>NaN</td>\n      <td>43.727929</td>\n      <td>-79.262029</td>\n    </tr>\n    <tr>\n      <th>7</th>\n      <td>M1L</td>\n      <td>NaN</td>\n      <td>NaN</td>\n      <td>43.711112</td>\n      <td>-79.284577</td>\n    </tr>\n    <tr>\n      <th>8</th>\n      <td>M1M</td>\n      <td>NaN</td>\n      <td>NaN</td>\n      <td>43.716316</td>\n      <td>-79.239476</td>\n    </tr>\n    <tr>\n      <th>9</th>\n      <td>M1N</td>\n      <td>NaN</td>\n      <td>NaN</td>\n      <td>43.692657</td>\n      <td>-79.264848</td>\n    </tr>\n    <tr>\n      <th>10</th>\n      <td>M1P</td>\n      <td>NaN</td>\n      <td>NaN</td>\n      <td>43.757410</td>\n      <td>-79.273304</td>\n    </tr>\n    <tr>\n      <th>11</th>\n      <td>M1R</td>\n      <td>NaN</td>\n      <td>NaN</td>\n      <td>43.750072</td>\n      <td>-79.295849</td>\n    </tr>\n    <tr>\n      <th>12</th>\n      <td>M1S</td>\n      <td>NaN</td>\n      <td>NaN</td>\n      <td>43.794200</td>\n      <td>-79.262029</td>\n    </tr>\n    <tr>\n      <th>13</th>\n      <td>M1T</td>\n      <td>NaN</td>\n      <td>NaN</td>\n      <td>43.781638</td>\n      <td>-79.304302</td>\n    </tr>\n    <tr>\n      <th>14</th>\n      <td>M1V</td>\n      <td>NaN</td>\n      <td>NaN</td>\n      <td>43.815252</td>\n      <td>-79.284577</td>\n    </tr>\n    <tr>\n      <th>15</th>\n      <td>M1W</td>\n      <td>NaN</td>\n      <td>NaN</td>\n      <td>43.799525</td>\n      <td>-79.318389</td>\n    </tr>\n    <tr>\n      <th>16</th>\n      <td>M1X</td>\n      <td>NaN</td>\n      <td>NaN</td>\n      <td>43.836125</td>\n      <td>-79.205636</td>\n    </tr>\n    <tr>\n      <th>17</th>\n      <td>M2H</td>\n      <td>NaN</td>\n      <td>NaN</td>\n      <td>43.803762</td>\n      <td>-79.363452</td>\n    </tr>\n    <tr>\n      <th>18</th>\n      <td>M2J</td>\n      <td>NaN</td>\n      <td>NaN</td>\n      <td>43.778517</td>\n      <td>-79.346556</td>\n    </tr>\n    <tr>\n      <th>19</th>\n      <td>M2K</td>\n      <td>NaN</td>\n      <td>NaN</td>\n      <td>43.786947</td>\n      <td>-79.385975</td>\n    </tr>\n    <tr>\n      <th>20</th>\n      <td>M2L</td>\n      <td>NaN</td>\n      <td>NaN</td>\n      <td>43.757490</td>\n      <td>-79.374714</td>\n    </tr>\n    <tr>\n      <th>21</th>\n      <td>M2M</td>\n      <td>NaN</td>\n      <td>NaN</td>\n      <td>43.789053</td>\n      <td>-79.408493</td>\n    </tr>\n    <tr>\n      <th>22</th>\n      <td>M2N</td>\n      <td>NaN</td>\n      <td>NaN</td>\n      <td>43.770120</td>\n      <td>-79.408493</td>\n    </tr>\n    <tr>\n      <th>23</th>\n      <td>M2P</td>\n      <td>NaN</td>\n      <td>NaN</td>\n      <td>43.752758</td>\n      <td>-79.400049</td>\n    </tr>\n    <tr>\n      <th>24</th>\n      <td>M2R</td>\n      <td>NaN</td>\n      <td>NaN</td>\n      <td>43.782736</td>\n      <td>-79.442259</td>\n    </tr>\n    <tr>\n      <th>25</th>\n      <td>M3A</td>\n      <td>NaN</td>\n      <td>NaN</td>\n      <td>43.753259</td>\n      <td>-79.329656</td>\n    </tr>\n    <tr>\n      <th>26</th>\n      <td>M3B</td>\n      <td>NaN</td>\n      <td>NaN</td>\n      <td>43.745906</td>\n      <td>-79.352188</td>\n    </tr>\n    <tr>\n      <th>27</th>\n      <td>M3C</td>\n      <td>NaN</td>\n      <td>NaN</td>\n      <td>43.725900</td>\n      <td>-79.340923</td>\n    </tr>\n    <tr>\n      <th>28</th>\n      <td>M3H</td>\n      <td>NaN</td>\n      <td>NaN</td>\n      <td>43.754328</td>\n      <td>-79.442259</td>\n    </tr>\n    <tr>\n      <th>29</th>\n      <td>M3J</td>\n      <td>NaN</td>\n      <td>NaN</td>\n      <td>43.767980</td>\n      <td>-79.487262</td>\n    </tr>\n    <tr>\n      <th>...</th>\n      <td>...</td>\n      <td>...</td>\n      <td>...</td>\n      <td>...</td>\n      <td>...</td>\n    </tr>\n    <tr>\n      <th>73</th>\n      <td>M6C</td>\n      <td>NaN</td>\n      <td>NaN</td>\n      <td>43.693781</td>\n      <td>-79.428191</td>\n    </tr>\n    <tr>\n      <th>74</th>\n      <td>M6E</td>\n      <td>NaN</td>\n      <td>NaN</td>\n      <td>43.689026</td>\n      <td>-79.453512</td>\n    </tr>\n    <tr>\n      <th>75</th>\n      <td>M6G</td>\n      <td>NaN</td>\n      <td>NaN</td>\n      <td>43.669542</td>\n      <td>-79.422564</td>\n    </tr>\n    <tr>\n      <th>76</th>\n      <td>M6H</td>\n      <td>NaN</td>\n      <td>NaN</td>\n      <td>43.669005</td>\n      <td>-79.442259</td>\n    </tr>\n    <tr>\n      <th>77</th>\n      <td>M6J</td>\n      <td>NaN</td>\n      <td>NaN</td>\n      <td>43.647927</td>\n      <td>-79.419750</td>\n    </tr>\n    <tr>\n      <th>78</th>\n      <td>M6K</td>\n      <td>NaN</td>\n      <td>NaN</td>\n      <td>43.636847</td>\n      <td>-79.428191</td>\n    </tr>\n    <tr>\n      <th>79</th>\n      <td>M6L</td>\n      <td>NaN</td>\n      <td>NaN</td>\n      <td>43.713756</td>\n      <td>-79.490074</td>\n    </tr>\n    <tr>\n      <th>80</th>\n      <td>M6M</td>\n      <td>NaN</td>\n      <td>NaN</td>\n      <td>43.691116</td>\n      <td>-79.476013</td>\n    </tr>\n    <tr>\n      <th>81</th>\n      <td>M6N</td>\n      <td>NaN</td>\n      <td>NaN</td>\n      <td>43.673185</td>\n      <td>-79.487262</td>\n    </tr>\n    <tr>\n      <th>82</th>\n      <td>M6P</td>\n      <td>NaN</td>\n      <td>NaN</td>\n      <td>43.661608</td>\n      <td>-79.464763</td>\n    </tr>\n    <tr>\n      <th>83</th>\n      <td>M6R</td>\n      <td>NaN</td>\n      <td>NaN</td>\n      <td>43.648960</td>\n      <td>-79.456325</td>\n    </tr>\n    <tr>\n      <th>84</th>\n      <td>M6S</td>\n      <td>NaN</td>\n      <td>NaN</td>\n      <td>43.651571</td>\n      <td>-79.484450</td>\n    </tr>\n    <tr>\n      <th>85</th>\n      <td>M7A</td>\n      <td>NaN</td>\n      <td>NaN</td>\n      <td>43.662301</td>\n      <td>-79.389494</td>\n    </tr>\n    <tr>\n      <th>86</th>\n      <td>M7R</td>\n      <td>NaN</td>\n      <td>NaN</td>\n      <td>43.636966</td>\n      <td>-79.615819</td>\n    </tr>\n    <tr>\n      <th>87</th>\n      <td>M7Y</td>\n      <td>NaN</td>\n      <td>NaN</td>\n      <td>43.662744</td>\n      <td>-79.321558</td>\n    </tr>\n    <tr>\n      <th>88</th>\n      <td>M8V</td>\n      <td>NaN</td>\n      <td>NaN</td>\n      <td>43.605647</td>\n      <td>-79.501321</td>\n    </tr>\n    <tr>\n      <th>89</th>\n      <td>M8W</td>\n      <td>NaN</td>\n      <td>NaN</td>\n      <td>43.602414</td>\n      <td>-79.543484</td>\n    </tr>\n    <tr>\n      <th>90</th>\n      <td>M8X</td>\n      <td>NaN</td>\n      <td>NaN</td>\n      <td>43.653654</td>\n      <td>-79.506944</td>\n    </tr>\n    <tr>\n      <th>91</th>\n      <td>M8Y</td>\n      <td>NaN</td>\n      <td>NaN</td>\n      <td>43.636258</td>\n      <td>-79.498509</td>\n    </tr>\n    <tr>\n      <th>92</th>\n      <td>M8Z</td>\n      <td>NaN</td>\n      <td>NaN</td>\n      <td>43.628841</td>\n      <td>-79.520999</td>\n    </tr>\n    <tr>\n      <th>93</th>\n      <td>M9A</td>\n      <td>NaN</td>\n      <td>NaN</td>\n      <td>43.667856</td>\n      <td>-79.532242</td>\n    </tr>\n    <tr>\n      <th>94</th>\n      <td>M9B</td>\n      <td>NaN</td>\n      <td>NaN</td>\n      <td>43.650943</td>\n      <td>-79.554724</td>\n    </tr>\n    <tr>\n      <th>95</th>\n      <td>M9C</td>\n      <td>NaN</td>\n      <td>NaN</td>\n      <td>43.643515</td>\n      <td>-79.577201</td>\n    </tr>\n    <tr>\n      <th>96</th>\n      <td>M9L</td>\n      <td>NaN</td>\n      <td>NaN</td>\n      <td>43.756303</td>\n      <td>-79.565963</td>\n    </tr>\n    <tr>\n      <th>97</th>\n      <td>M9M</td>\n      <td>NaN</td>\n      <td>NaN</td>\n      <td>43.724766</td>\n      <td>-79.532242</td>\n    </tr>\n    <tr>\n      <th>98</th>\n      <td>M9N</td>\n      <td>NaN</td>\n      <td>NaN</td>\n      <td>43.706876</td>\n      <td>-79.518188</td>\n    </tr>\n    <tr>\n      <th>99</th>\n      <td>M9P</td>\n      <td>NaN</td>\n      <td>NaN</td>\n      <td>43.696319</td>\n      <td>-79.532242</td>\n    </tr>\n    <tr>\n      <th>100</th>\n      <td>M9R</td>\n      <td>NaN</td>\n      <td>NaN</td>\n      <td>43.688905</td>\n      <td>-79.554724</td>\n    </tr>\n    <tr>\n      <th>101</th>\n      <td>M9V</td>\n      <td>NaN</td>\n      <td>NaN</td>\n      <td>43.739416</td>\n      <td>-79.588437</td>\n    </tr>\n    <tr>\n      <th>102</th>\n      <td>M9W</td>\n      <td>NaN</td>\n      <td>NaN</td>\n      <td>43.706748</td>\n      <td>-79.594054</td>\n    </tr>\n  </tbody>\n</table>\n<p>103 rows \u00d7 5 columns</p>\n</div>",
                        "text/plain": "    Postal Code Borough Neighbourhood   Latitude  Longitude\n0           M1B     NaN           NaN  43.806686 -79.194353\n1           M1C     NaN           NaN  43.784535 -79.160497\n2           M1E     NaN           NaN  43.763573 -79.188711\n3           M1G     NaN           NaN  43.770992 -79.216917\n4           M1H     NaN           NaN  43.773136 -79.239476\n5           M1J     NaN           NaN  43.744734 -79.239476\n6           M1K     NaN           NaN  43.727929 -79.262029\n7           M1L     NaN           NaN  43.711112 -79.284577\n8           M1M     NaN           NaN  43.716316 -79.239476\n9           M1N     NaN           NaN  43.692657 -79.264848\n10          M1P     NaN           NaN  43.757410 -79.273304\n11          M1R     NaN           NaN  43.750072 -79.295849\n12          M1S     NaN           NaN  43.794200 -79.262029\n13          M1T     NaN           NaN  43.781638 -79.304302\n14          M1V     NaN           NaN  43.815252 -79.284577\n15          M1W     NaN           NaN  43.799525 -79.318389\n16          M1X     NaN           NaN  43.836125 -79.205636\n17          M2H     NaN           NaN  43.803762 -79.363452\n18          M2J     NaN           NaN  43.778517 -79.346556\n19          M2K     NaN           NaN  43.786947 -79.385975\n20          M2L     NaN           NaN  43.757490 -79.374714\n21          M2M     NaN           NaN  43.789053 -79.408493\n22          M2N     NaN           NaN  43.770120 -79.408493\n23          M2P     NaN           NaN  43.752758 -79.400049\n24          M2R     NaN           NaN  43.782736 -79.442259\n25          M3A     NaN           NaN  43.753259 -79.329656\n26          M3B     NaN           NaN  43.745906 -79.352188\n27          M3C     NaN           NaN  43.725900 -79.340923\n28          M3H     NaN           NaN  43.754328 -79.442259\n29          M3J     NaN           NaN  43.767980 -79.487262\n..          ...     ...           ...        ...        ...\n73          M6C     NaN           NaN  43.693781 -79.428191\n74          M6E     NaN           NaN  43.689026 -79.453512\n75          M6G     NaN           NaN  43.669542 -79.422564\n76          M6H     NaN           NaN  43.669005 -79.442259\n77          M6J     NaN           NaN  43.647927 -79.419750\n78          M6K     NaN           NaN  43.636847 -79.428191\n79          M6L     NaN           NaN  43.713756 -79.490074\n80          M6M     NaN           NaN  43.691116 -79.476013\n81          M6N     NaN           NaN  43.673185 -79.487262\n82          M6P     NaN           NaN  43.661608 -79.464763\n83          M6R     NaN           NaN  43.648960 -79.456325\n84          M6S     NaN           NaN  43.651571 -79.484450\n85          M7A     NaN           NaN  43.662301 -79.389494\n86          M7R     NaN           NaN  43.636966 -79.615819\n87          M7Y     NaN           NaN  43.662744 -79.321558\n88          M8V     NaN           NaN  43.605647 -79.501321\n89          M8W     NaN           NaN  43.602414 -79.543484\n90          M8X     NaN           NaN  43.653654 -79.506944\n91          M8Y     NaN           NaN  43.636258 -79.498509\n92          M8Z     NaN           NaN  43.628841 -79.520999\n93          M9A     NaN           NaN  43.667856 -79.532242\n94          M9B     NaN           NaN  43.650943 -79.554724\n95          M9C     NaN           NaN  43.643515 -79.577201\n96          M9L     NaN           NaN  43.756303 -79.565963\n97          M9M     NaN           NaN  43.724766 -79.532242\n98          M9N     NaN           NaN  43.706876 -79.518188\n99          M9P     NaN           NaN  43.696319 -79.532242\n100         M9R     NaN           NaN  43.688905 -79.554724\n101         M9V     NaN           NaN  43.739416 -79.588437\n102         M9W     NaN           NaN  43.706748 -79.594054\n\n[103 rows x 5 columns]"
                    },
                    "execution_count": 69,
                    "metadata": {},
                    "output_type": "execute_result"
                }
            ],
            "source": "new_df"
        },
        {
            "cell_type": "code",
            "execution_count": null,
            "metadata": {},
            "outputs": [],
            "source": ""
        }
    ],
    "metadata": {
        "kernelspec": {
            "display_name": "Python 3.6",
            "language": "python",
            "name": "python3"
        },
        "language_info": {
            "codemirror_mode": {
                "name": "ipython",
                "version": 3
            },
            "file_extension": ".py",
            "mimetype": "text/x-python",
            "name": "python",
            "nbconvert_exporter": "python",
            "pygments_lexer": "ipython3",
            "version": "3.6.9"
        }
    },
    "nbformat": 4,
    "nbformat_minor": 1
}