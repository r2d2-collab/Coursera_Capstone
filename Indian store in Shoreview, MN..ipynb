{
    "cells": [
        {
            "cell_type": "markdown",
            "metadata": {
                "collapsed": true
            },
            "source": "###### Introduction/Business Problem."
        },
        {
            "cell_type": "markdown",
            "metadata": {},
            "source": "###### I have lived in Shoreview, MN for a long time. And being of Indian origin, one perpetual issue was to have to drive about 30-45 minutes each time we had to buy our local Indian groceries which included the famous spices, sweet or spicy snacks and vegetables. I could like to identify the location for an Indian grocery store which is close by to Shoreview, MN. And considering the increasing Indian population, I know that there is a huge demand for it."
        },
        {
            "cell_type": "code",
            "execution_count": 29,
            "metadata": {},
            "outputs": [
                {
                    "name": "stdout",
                    "output_type": "stream",
                    "text": "Solving environment: done\n\n## Package Plan ##\n\n  environment location: /opt/conda/envs/Python36\n\n  added / updated specs: \n    - geopy\n\n\nThe following packages will be downloaded:\n\n    package                    |            build\n    ---------------------------|-----------------\n    ca-certificates-2019.11.28 |       hecc5488_0         145 KB  conda-forge\n    geopy-1.21.0               |             py_0          58 KB  conda-forge\n    certifi-2019.11.28         |           py36_0         149 KB  conda-forge\n    geographiclib-1.50         |             py_0          34 KB  conda-forge\n    openssl-1.1.1d             |       h516909a_0         2.1 MB  conda-forge\n    ------------------------------------------------------------\n                                           Total:         2.5 MB\n\nThe following NEW packages will be INSTALLED:\n\n    geographiclib:   1.50-py_0         conda-forge\n    geopy:           1.21.0-py_0       conda-forge\n\nThe following packages will be UPDATED:\n\n    ca-certificates: 2019.11.27-0                  --> 2019.11.28-hecc5488_0 conda-forge\n    certifi:         2019.11.28-py36_0             --> 2019.11.28-py36_0     conda-forge\n\nThe following packages will be DOWNGRADED:\n\n    openssl:         1.1.1d-h7b6447c_3             --> 1.1.1d-h516909a_0     conda-forge\n\n\nDownloading and Extracting Packages\nca-certificates-2019 | 145 KB    | ##################################### | 100% \ngeopy-1.21.0         | 58 KB     | ##################################### | 100% \ncertifi-2019.11.28   | 149 KB    | ##################################### | 100% \ngeographiclib-1.50   | 34 KB     | ##################################### | 100% \nopenssl-1.1.1d       | 2.1 MB    | ##################################### | 100% \nPreparing transaction: done\nVerifying transaction: done\nExecuting transaction: done\nSolving environment: done\n\n## Package Plan ##\n\n  environment location: /opt/conda/envs/Python36\n\n  added / updated specs: \n    - folium=0.5.0\n\n\nThe following packages will be downloaded:\n\n    package                    |            build\n    ---------------------------|-----------------\n    branca-0.3.1               |             py_0          25 KB  conda-forge\n    vincent-0.4.4              |             py_1          28 KB  conda-forge\n    folium-0.5.0               |             py_0          45 KB  conda-forge\n    altair-4.0.1               |             py_0         575 KB  conda-forge\n    ------------------------------------------------------------\n                                           Total:         673 KB\n\nThe following NEW packages will be INSTALLED:\n\n    altair:  4.0.1-py_0 conda-forge\n    branca:  0.3.1-py_0 conda-forge\n    folium:  0.5.0-py_0 conda-forge\n    vincent: 0.4.4-py_1 conda-forge\n\n\nDownloading and Extracting Packages\nbranca-0.3.1         | 25 KB     | ##################################### | 100% \nvincent-0.4.4        | 28 KB     | ##################################### | 100% \nfolium-0.5.0         | 45 KB     | ##################################### | 100% \naltair-4.0.1         | 575 KB    | ##################################### | 100% \nPreparing transaction: done\nVerifying transaction: done\nExecuting transaction: done\nFolium installed\nLibraries imported.\n"
                }
            ],
            "source": "import requests # library to handle requests\nimport pandas as pd # library for data analsysis\nimport numpy as np # library to handle data in a vectorized manner\nimport random # library for random number generation\n\n!conda install -c conda-forge geopy --yes \nfrom geopy.geocoders import Nominatim # module to convert an address into latitude and longitude values\n\n# libraries for displaying images\nfrom IPython.display import Image \nfrom IPython.core.display import HTML \n    \n# tranforming json file into a pandas dataframe library\nfrom pandas.io.json import json_normalize\n\n!conda install -c conda-forge folium=0.5.0 --yes\nimport folium # plotting library\n\nprint('Folium installed')\nprint('Libraries imported.')"
        },
        {
            "cell_type": "code",
            "execution_count": 30,
            "metadata": {},
            "outputs": [
                {
                    "name": "stdout",
                    "output_type": "stream",
                    "text": "Your credentails:\nCLIENT_ID: 0GDBP24PLBVTNHRDEVBRVPWQE5TYCUMZHKR2ZFGAFJARRD3Y\nCLIENT_SECRET:T1B5B1JJAUIZDJUL3CYNQZZ2KGXJCKCCY1DDUYBT5R2BB0WR\n"
                }
            ],
            "source": "CLIENT_ID = '0GDBP24PLBVTNHRDEVBRVPWQE5TYCUMZHKR2ZFGAFJARRD3Y' # your Foursquare ID\nCLIENT_SECRET = 'T1B5B1JJAUIZDJUL3CYNQZZ2KGXJCKCCY1DDUYBT5R2BB0WR' # your Foursquare Secret\nVERSION = '20180605' # Foursquare API version\n\nprint('Your credentails:')\nprint('CLIENT_ID: ' + CLIENT_ID)\nprint('CLIENT_SECRET:' + CLIENT_SECRET)"
        },
        {
            "cell_type": "code",
            "execution_count": 31,
            "metadata": {},
            "outputs": [
                {
                    "name": "stdout",
                    "output_type": "stream",
                    "text": "45.0722056 -93.1282878\n"
                }
            ],
            "source": "address = 'Shoreview, MN'\n\ngeolocator = Nominatim(user_agent=\"foursquare_agent\")\nlocation = geolocator.geocode(address)\nlatitude = location.latitude\nlongitude = location.longitude\nprint(latitude, longitude)"
        },
        {
            "cell_type": "markdown",
            "metadata": {},
            "source": "###### I ran the query with a radius of 500 metres of the longitude and latitude of Shoreview, MN."
        },
        {
            "cell_type": "code",
            "execution_count": 81,
            "metadata": {},
            "outputs": [
                {
                    "name": "stdout",
                    "output_type": "stream",
                    "text": "Indian .... OK!\n"
                }
            ],
            "source": "search_query = 'Indian'\nradius = 500\nprint(search_query + ' .... OK!')"
        },
        {
            "cell_type": "code",
            "execution_count": 82,
            "metadata": {},
            "outputs": [
                {
                    "data": {
                        "text/plain": "'https://api.foursquare.com/v2/venues/search?client_id=0GDBP24PLBVTNHRDEVBRVPWQE5TYCUMZHKR2ZFGAFJARRD3Y&client_secret=T1B5B1JJAUIZDJUL3CYNQZZ2KGXJCKCCY1DDUYBT5R2BB0WR&ll=45.0722056,-93.1282878&v=20180605&query=Indian&radius=500&limit=100'"
                    },
                    "execution_count": 82,
                    "metadata": {},
                    "output_type": "execute_result"
                }
            ],
            "source": "url = 'https://api.foursquare.com/v2/venues/search?client_id={}&client_secret={}&ll={},{}&v={}&query={}&radius={}&limit={}'.format(CLIENT_ID, CLIENT_SECRET, latitude, longitude, VERSION, search_query, radius, LIMIT)\nurl"
        },
        {
            "cell_type": "code",
            "execution_count": 83,
            "metadata": {},
            "outputs": [
                {
                    "data": {
                        "text/plain": "{'meta': {'code': 200, 'requestId': '5e3cc051b4b684001c62a06b'},\n 'response': {'venues': []}}"
                    },
                    "execution_count": 83,
                    "metadata": {},
                    "output_type": "execute_result"
                }
            ],
            "source": "results = requests.get(url).json()\nresults"
        },
        {
            "cell_type": "code",
            "execution_count": 84,
            "metadata": {},
            "outputs": [
                {
                    "data": {
                        "text/html": "<div>\n<style scoped>\n    .dataframe tbody tr th:only-of-type {\n        vertical-align: middle;\n    }\n\n    .dataframe tbody tr th {\n        vertical-align: top;\n    }\n\n    .dataframe thead th {\n        text-align: right;\n    }\n</style>\n<table border=\"1\" class=\"dataframe\">\n  <thead>\n    <tr style=\"text-align: right;\">\n      <th></th>\n    </tr>\n  </thead>\n  <tbody>\n  </tbody>\n</table>\n</div>",
                        "text/plain": "Empty DataFrame\nColumns: []\nIndex: []"
                    },
                    "execution_count": 84,
                    "metadata": {},
                    "output_type": "execute_result"
                }
            ],
            "source": "# assign relevant part of JSON to venues\nvenues = results['response']['venues']\n\n# tranform venues into a dataframe\ndataframe = json_normalize(venues)\ndataframe.head()"
        },
        {
            "cell_type": "markdown",
            "metadata": {},
            "source": "###### As you can see, the query results are empty. I had to run the query with a radius of 10,000 metres to get results for the keyword 'Indian'. And it too only pulls up a few Indian restaurants, no stores."
        },
        {
            "cell_type": "code",
            "execution_count": 76,
            "metadata": {},
            "outputs": [
                {
                    "name": "stdout",
                    "output_type": "stream",
                    "text": "Indian .... OK!\n"
                }
            ],
            "source": "search_query = 'Indian'\nradius = 10000\nprint(search_query + ' .... OK!')"
        },
        {
            "cell_type": "code",
            "execution_count": 77,
            "metadata": {},
            "outputs": [
                {
                    "data": {
                        "text/plain": "'https://api.foursquare.com/v2/venues/search?client_id=0GDBP24PLBVTNHRDEVBRVPWQE5TYCUMZHKR2ZFGAFJARRD3Y&client_secret=T1B5B1JJAUIZDJUL3CYNQZZ2KGXJCKCCY1DDUYBT5R2BB0WR&ll=45.0722056,-93.1282878&v=20180605&query=Indian&radius=10000&limit=100'"
                    },
                    "execution_count": 77,
                    "metadata": {},
                    "output_type": "execute_result"
                }
            ],
            "source": "url = 'https://api.foursquare.com/v2/venues/search?client_id={}&client_secret={}&ll={},{}&v={}&query={}&radius={}&limit={}'.format(CLIENT_ID, CLIENT_SECRET, latitude, longitude, VERSION, search_query, radius, LIMIT)\nurl"
        },
        {
            "cell_type": "code",
            "execution_count": 78,
            "metadata": {},
            "outputs": [
                {
                    "data": {
                        "text/plain": "{'meta': {'code': 200, 'requestId': '5e3cc0820de0d9001b16dd14'},\n 'response': {'venues': [{'id': '5018246fe4b0e3bcfc59468b',\n    'name': 'Indian Land Tenure Foundation',\n    'location': {'address': '151 County Road B2 E',\n     'lat': 45.01359939575195,\n     'lng': -93.09559631347656,\n     'labeledLatLngs': [{'label': 'display',\n       'lat': 45.01359939575195,\n       'lng': -93.09559631347656}],\n     'distance': 7012,\n     'postalCode': '55117',\n     'cc': 'US',\n     'city': 'Saint Paul',\n     'state': 'MN',\n     'country': 'United States',\n     'formattedAddress': ['151 County Road B2 E',\n      'Saint Paul, MN 55117',\n      'United States']},\n    'categories': [{'id': '50328a8e91d4c4b30a586d6c',\n      'name': 'Non-Profit',\n      'pluralName': 'Non-Profits',\n      'shortName': 'Non-Profit',\n      'icon': {'prefix': 'https://ss3.4sqi.net/img/categories_v2/building/default_',\n       'suffix': '.png'},\n      'primary': True}],\n    'referralId': 'v-1581039755',\n    'hasPerk': False},\n   {'id': '526ae4ef11d264eae1f11d6b',\n    'name': 'Indian Hills Park',\n    'location': {'lat': 45.12759017944336,\n     'lng': -93.14879608154297,\n     'labeledLatLngs': [{'label': 'display',\n       'lat': 45.12759017944336,\n       'lng': -93.14879608154297}],\n     'distance': 6372,\n     'cc': 'US',\n     'city': 'Circle Pines',\n     'state': 'MN',\n     'country': 'United States',\n     'formattedAddress': ['Circle Pines, MN', 'United States']},\n    'categories': [{'id': '4bf58dd8d48988d163941735',\n      'name': 'Park',\n      'pluralName': 'Parks',\n      'shortName': 'Park',\n      'icon': {'prefix': 'https://ss3.4sqi.net/img/categories_v2/parks_outdoors/park_',\n       'suffix': '.png'},\n      'primary': True}],\n    'referralId': 'v-1581039755',\n    'hasPerk': False},\n   {'id': '4df4054ce4cda09e6da55fe3',\n    'name': 'Indian Garden Restaurant',\n    'location': {'address': '4920 Central Ave NE',\n     'lat': 45.05788743495941,\n     'lng': -93.24758426666666,\n     'labeledLatLngs': [{'label': 'display',\n       'lat': 45.05788743495941,\n       'lng': -93.24758426666666}],\n     'distance': 9514,\n     'postalCode': '55421',\n     'cc': 'US',\n     'city': 'Minneapolis',\n     'state': 'MN',\n     'country': 'United States',\n     'formattedAddress': ['4920 Central Ave NE',\n      'Minneapolis, MN 55421',\n      'United States']},\n    'categories': [{'id': '4bf58dd8d48988d10f941735',\n      'name': 'Indian Restaurant',\n      'pluralName': 'Indian Restaurants',\n      'shortName': 'Indian',\n      'icon': {'prefix': 'https://ss3.4sqi.net/img/categories_v2/food/indian_',\n       'suffix': '.png'},\n      'primary': True}],\n    'referralId': 'v-1581039755',\n    'hasPerk': False},\n   {'id': '4f32b05119836c91c7f0109b',\n    'name': 'Taj Indian Grill',\n    'location': {'address': '2700 39th Ave NE',\n     'lat': 45.039192,\n     'lng': -93.220803,\n     'labeledLatLngs': [{'label': 'display',\n       'lat': 45.039192,\n       'lng': -93.220803}],\n     'distance': 8150,\n     'postalCode': '55421',\n     'cc': 'US',\n     'city': 'Minneapolis',\n     'state': 'MN',\n     'country': 'United States',\n     'formattedAddress': ['2700 39th Ave NE',\n      'Minneapolis, MN 55421',\n      'United States']},\n    'categories': [{'id': '4bf58dd8d48988d10f941735',\n      'name': 'Indian Restaurant',\n      'pluralName': 'Indian Restaurants',\n      'shortName': 'Indian',\n      'icon': {'prefix': 'https://ss3.4sqi.net/img/categories_v2/food/indian_',\n       'suffix': '.png'},\n      'primary': True}],\n    'referralId': 'v-1581039755',\n    'hasPerk': False},\n   {'id': '583940ec7b43b4128ad16e0b',\n    'name': 'Maharaja Indian Cuisine',\n    'location': {'address': '8492',\n     'crossStreet': 'Central Ave NE',\n     'lat': 45.124640392270905,\n     'lng': -93.23582983030064,\n     'labeledLatLngs': [{'label': 'display',\n       'lat': 45.124640392270905,\n       'lng': -93.23582983030064}],\n     'distance': 10270,\n     'postalCode': '55432',\n     'cc': 'US',\n     'city': 'Spring Lake Park',\n     'state': 'MN',\n     'country': 'United States',\n     'formattedAddress': ['8492 (Central Ave NE)',\n      'Spring Lake Park, MN 55432',\n      'United States']},\n    'categories': [{'id': '4bf58dd8d48988d10f941735',\n      'name': 'Indian Restaurant',\n      'pluralName': 'Indian Restaurants',\n      'shortName': 'Indian',\n      'icon': {'prefix': 'https://ss3.4sqi.net/img/categories_v2/food/indian_',\n       'suffix': '.png'},\n      'primary': True}],\n    'delivery': {'id': '563204',\n     'url': 'https://www.grubhub.com/restaurant/maharaja-indian-cuisine-8492-central-ave-ne-spring-lake-park/563204?affiliate=1131&utm_source=foursquare-affiliate-network&utm_medium=affiliate&utm_campaign=1131&utm_content=563204',\n     'provider': {'name': 'grubhub',\n      'icon': {'prefix': 'https://fastly.4sqi.net/img/general/cap/',\n       'sizes': [40, 50],\n       'name': '/delivery_provider_grubhub_20180129.png'}}},\n    'referralId': 'v-1581039755',\n    'hasPerk': False},\n   {'id': '50536d80e4b09ebc6e462c44',\n    'name': 'z indian cuisine',\n    'location': {'address': 'Maplewood Mall',\n     'lat': 45.031665080577056,\n     'lng': -93.02190947976557,\n     'labeledLatLngs': [{'label': 'display',\n       'lat': 45.031665080577056,\n       'lng': -93.02190947976557}],\n     'distance': 9505,\n     'postalCode': '55109',\n     'cc': 'US',\n     'city': 'Saint Paul',\n     'state': 'MN',\n     'country': 'United States',\n     'formattedAddress': ['Maplewood Mall',\n      'Saint Paul, MN 55109',\n      'United States']},\n    'categories': [{'id': '4bf58dd8d48988d10f941735',\n      'name': 'Indian Restaurant',\n      'pluralName': 'Indian Restaurants',\n      'shortName': 'Indian',\n      'icon': {'prefix': 'https://ss3.4sqi.net/img/categories_v2/food/indian_',\n       'suffix': '.png'},\n      'primary': True}],\n    'referralId': 'v-1581039755',\n    'hasPerk': False},\n   {'id': '4baf96faf964a520bf0d3ce3',\n    'name': 'Jalsa Indian Fast Food',\n    'location': {'address': '855 45th Ave NE',\n     'crossStreet': 'Central Ave.',\n     'lat': 45.05032652327296,\n     'lng': -93.24915722443869,\n     'labeledLatLngs': [{'label': 'display',\n       'lat': 45.05032652327296,\n       'lng': -93.24915722443869}],\n     'distance': 9811,\n     'postalCode': '55421',\n     'cc': 'US',\n     'city': 'Hilltop',\n     'state': 'MN',\n     'country': 'United States',\n     'formattedAddress': ['855 45th Ave NE (Central Ave.)',\n      'Hilltop, MN 55421',\n      'United States']},\n    'categories': [{'id': '4bf58dd8d48988d10f941735',\n      'name': 'Indian Restaurant',\n      'pluralName': 'Indian Restaurants',\n      'shortName': 'Indian',\n      'icon': {'prefix': 'https://ss3.4sqi.net/img/categories_v2/food/indian_',\n       'suffix': '.png'},\n      'primary': True}],\n    'referralId': 'v-1581039755',\n    'hasPerk': False}]}}"
                    },
                    "execution_count": 78,
                    "metadata": {},
                    "output_type": "execute_result"
                }
            ],
            "source": "results = requests.get(url).json()\nresults"
        },
        {
            "cell_type": "code",
            "execution_count": 79,
            "metadata": {},
            "outputs": [
                {
                    "data": {
                        "text/html": "<div>\n<style scoped>\n    .dataframe tbody tr th:only-of-type {\n        vertical-align: middle;\n    }\n\n    .dataframe tbody tr th {\n        vertical-align: top;\n    }\n\n    .dataframe thead th {\n        text-align: right;\n    }\n</style>\n<table border=\"1\" class=\"dataframe\">\n  <thead>\n    <tr style=\"text-align: right;\">\n      <th></th>\n      <th>categories</th>\n      <th>delivery.id</th>\n      <th>delivery.provider.icon.name</th>\n      <th>delivery.provider.icon.prefix</th>\n      <th>delivery.provider.icon.sizes</th>\n      <th>delivery.provider.name</th>\n      <th>delivery.url</th>\n      <th>hasPerk</th>\n      <th>id</th>\n      <th>location.address</th>\n      <th>...</th>\n      <th>location.crossStreet</th>\n      <th>location.distance</th>\n      <th>location.formattedAddress</th>\n      <th>location.labeledLatLngs</th>\n      <th>location.lat</th>\n      <th>location.lng</th>\n      <th>location.postalCode</th>\n      <th>location.state</th>\n      <th>name</th>\n      <th>referralId</th>\n    </tr>\n  </thead>\n  <tbody>\n    <tr>\n      <th>0</th>\n      <td>[{'id': '50328a8e91d4c4b30a586d6c', 'name': 'N...</td>\n      <td>NaN</td>\n      <td>NaN</td>\n      <td>NaN</td>\n      <td>NaN</td>\n      <td>NaN</td>\n      <td>NaN</td>\n      <td>False</td>\n      <td>5018246fe4b0e3bcfc59468b</td>\n      <td>151 County Road B2 E</td>\n      <td>...</td>\n      <td>NaN</td>\n      <td>7012</td>\n      <td>[151 County Road B2 E, Saint Paul, MN 55117, U...</td>\n      <td>[{'label': 'display', 'lat': 45.01359939575195...</td>\n      <td>45.013599</td>\n      <td>-93.095596</td>\n      <td>55117</td>\n      <td>MN</td>\n      <td>Indian Land Tenure Foundation</td>\n      <td>v-1581039755</td>\n    </tr>\n    <tr>\n      <th>1</th>\n      <td>[{'id': '4bf58dd8d48988d163941735', 'name': 'P...</td>\n      <td>NaN</td>\n      <td>NaN</td>\n      <td>NaN</td>\n      <td>NaN</td>\n      <td>NaN</td>\n      <td>NaN</td>\n      <td>False</td>\n      <td>526ae4ef11d264eae1f11d6b</td>\n      <td>NaN</td>\n      <td>...</td>\n      <td>NaN</td>\n      <td>6372</td>\n      <td>[Circle Pines, MN, United States]</td>\n      <td>[{'label': 'display', 'lat': 45.12759017944336...</td>\n      <td>45.127590</td>\n      <td>-93.148796</td>\n      <td>NaN</td>\n      <td>MN</td>\n      <td>Indian Hills Park</td>\n      <td>v-1581039755</td>\n    </tr>\n    <tr>\n      <th>2</th>\n      <td>[{'id': '4bf58dd8d48988d10f941735', 'name': 'I...</td>\n      <td>NaN</td>\n      <td>NaN</td>\n      <td>NaN</td>\n      <td>NaN</td>\n      <td>NaN</td>\n      <td>NaN</td>\n      <td>False</td>\n      <td>4df4054ce4cda09e6da55fe3</td>\n      <td>4920 Central Ave NE</td>\n      <td>...</td>\n      <td>NaN</td>\n      <td>9514</td>\n      <td>[4920 Central Ave NE, Minneapolis, MN 55421, U...</td>\n      <td>[{'label': 'display', 'lat': 45.05788743495941...</td>\n      <td>45.057887</td>\n      <td>-93.247584</td>\n      <td>55421</td>\n      <td>MN</td>\n      <td>Indian Garden Restaurant</td>\n      <td>v-1581039755</td>\n    </tr>\n    <tr>\n      <th>3</th>\n      <td>[{'id': '4bf58dd8d48988d10f941735', 'name': 'I...</td>\n      <td>NaN</td>\n      <td>NaN</td>\n      <td>NaN</td>\n      <td>NaN</td>\n      <td>NaN</td>\n      <td>NaN</td>\n      <td>False</td>\n      <td>4f32b05119836c91c7f0109b</td>\n      <td>2700 39th Ave NE</td>\n      <td>...</td>\n      <td>NaN</td>\n      <td>8150</td>\n      <td>[2700 39th Ave NE, Minneapolis, MN 55421, Unit...</td>\n      <td>[{'label': 'display', 'lat': 45.039192, 'lng':...</td>\n      <td>45.039192</td>\n      <td>-93.220803</td>\n      <td>55421</td>\n      <td>MN</td>\n      <td>Taj Indian Grill</td>\n      <td>v-1581039755</td>\n    </tr>\n    <tr>\n      <th>4</th>\n      <td>[{'id': '4bf58dd8d48988d10f941735', 'name': 'I...</td>\n      <td>563204</td>\n      <td>/delivery_provider_grubhub_20180129.png</td>\n      <td>https://fastly.4sqi.net/img/general/cap/</td>\n      <td>[40, 50]</td>\n      <td>grubhub</td>\n      <td>https://www.grubhub.com/restaurant/maharaja-in...</td>\n      <td>False</td>\n      <td>583940ec7b43b4128ad16e0b</td>\n      <td>8492</td>\n      <td>...</td>\n      <td>Central Ave NE</td>\n      <td>10270</td>\n      <td>[8492 (Central Ave NE), Spring Lake Park, MN 5...</td>\n      <td>[{'label': 'display', 'lat': 45.12464039227090...</td>\n      <td>45.124640</td>\n      <td>-93.235830</td>\n      <td>55432</td>\n      <td>MN</td>\n      <td>Maharaja Indian Cuisine</td>\n      <td>v-1581039755</td>\n    </tr>\n  </tbody>\n</table>\n<p>5 rows \u00d7 23 columns</p>\n</div>",
                        "text/plain": "                                          categories delivery.id  \\\n0  [{'id': '50328a8e91d4c4b30a586d6c', 'name': 'N...         NaN   \n1  [{'id': '4bf58dd8d48988d163941735', 'name': 'P...         NaN   \n2  [{'id': '4bf58dd8d48988d10f941735', 'name': 'I...         NaN   \n3  [{'id': '4bf58dd8d48988d10f941735', 'name': 'I...         NaN   \n4  [{'id': '4bf58dd8d48988d10f941735', 'name': 'I...      563204   \n\n               delivery.provider.icon.name  \\\n0                                      NaN   \n1                                      NaN   \n2                                      NaN   \n3                                      NaN   \n4  /delivery_provider_grubhub_20180129.png   \n\n              delivery.provider.icon.prefix delivery.provider.icon.sizes  \\\n0                                       NaN                          NaN   \n1                                       NaN                          NaN   \n2                                       NaN                          NaN   \n3                                       NaN                          NaN   \n4  https://fastly.4sqi.net/img/general/cap/                     [40, 50]   \n\n  delivery.provider.name                                       delivery.url  \\\n0                    NaN                                                NaN   \n1                    NaN                                                NaN   \n2                    NaN                                                NaN   \n3                    NaN                                                NaN   \n4                grubhub  https://www.grubhub.com/restaurant/maharaja-in...   \n\n   hasPerk                        id      location.address  ...  \\\n0    False  5018246fe4b0e3bcfc59468b  151 County Road B2 E  ...   \n1    False  526ae4ef11d264eae1f11d6b                   NaN  ...   \n2    False  4df4054ce4cda09e6da55fe3   4920 Central Ave NE  ...   \n3    False  4f32b05119836c91c7f0109b      2700 39th Ave NE  ...   \n4    False  583940ec7b43b4128ad16e0b                  8492  ...   \n\n  location.crossStreet location.distance  \\\n0                  NaN              7012   \n1                  NaN              6372   \n2                  NaN              9514   \n3                  NaN              8150   \n4       Central Ave NE             10270   \n\n                           location.formattedAddress  \\\n0  [151 County Road B2 E, Saint Paul, MN 55117, U...   \n1                  [Circle Pines, MN, United States]   \n2  [4920 Central Ave NE, Minneapolis, MN 55421, U...   \n3  [2700 39th Ave NE, Minneapolis, MN 55421, Unit...   \n4  [8492 (Central Ave NE), Spring Lake Park, MN 5...   \n\n                             location.labeledLatLngs  location.lat  \\\n0  [{'label': 'display', 'lat': 45.01359939575195...     45.013599   \n1  [{'label': 'display', 'lat': 45.12759017944336...     45.127590   \n2  [{'label': 'display', 'lat': 45.05788743495941...     45.057887   \n3  [{'label': 'display', 'lat': 45.039192, 'lng':...     45.039192   \n4  [{'label': 'display', 'lat': 45.12464039227090...     45.124640   \n\n  location.lng location.postalCode  location.state  \\\n0   -93.095596               55117              MN   \n1   -93.148796                 NaN              MN   \n2   -93.247584               55421              MN   \n3   -93.220803               55421              MN   \n4   -93.235830               55432              MN   \n\n                            name    referralId  \n0  Indian Land Tenure Foundation  v-1581039755  \n1              Indian Hills Park  v-1581039755  \n2       Indian Garden Restaurant  v-1581039755  \n3               Taj Indian Grill  v-1581039755  \n4        Maharaja Indian Cuisine  v-1581039755  \n\n[5 rows x 23 columns]"
                    },
                    "execution_count": 79,
                    "metadata": {},
                    "output_type": "execute_result"
                }
            ],
            "source": "# assign relevant part of JSON to venues\nvenues = results['response']['venues']\n\n# tranform venues into a dataframe\ndataframe = json_normalize(venues)\ndataframe.head()"
        },
        {
            "cell_type": "code",
            "execution_count": 80,
            "metadata": {},
            "outputs": [
                {
                    "data": {
                        "text/html": "<div>\n<style scoped>\n    .dataframe tbody tr th:only-of-type {\n        vertical-align: middle;\n    }\n\n    .dataframe tbody tr th {\n        vertical-align: top;\n    }\n\n    .dataframe thead th {\n        text-align: right;\n    }\n</style>\n<table border=\"1\" class=\"dataframe\">\n  <thead>\n    <tr style=\"text-align: right;\">\n      <th></th>\n      <th>name</th>\n      <th>categories</th>\n      <th>address</th>\n      <th>cc</th>\n      <th>city</th>\n      <th>country</th>\n      <th>crossStreet</th>\n      <th>distance</th>\n      <th>formattedAddress</th>\n      <th>labeledLatLngs</th>\n      <th>lat</th>\n      <th>lng</th>\n      <th>postalCode</th>\n      <th>state</th>\n      <th>id</th>\n    </tr>\n  </thead>\n  <tbody>\n    <tr>\n      <th>0</th>\n      <td>Indian Land Tenure Foundation</td>\n      <td>Non-Profit</td>\n      <td>151 County Road B2 E</td>\n      <td>US</td>\n      <td>Saint Paul</td>\n      <td>United States</td>\n      <td>NaN</td>\n      <td>7012</td>\n      <td>[151 County Road B2 E, Saint Paul, MN 55117, U...</td>\n      <td>[{'label': 'display', 'lat': 45.01359939575195...</td>\n      <td>45.013599</td>\n      <td>-93.095596</td>\n      <td>55117</td>\n      <td>MN</td>\n      <td>5018246fe4b0e3bcfc59468b</td>\n    </tr>\n    <tr>\n      <th>1</th>\n      <td>Indian Hills Park</td>\n      <td>Park</td>\n      <td>NaN</td>\n      <td>US</td>\n      <td>Circle Pines</td>\n      <td>United States</td>\n      <td>NaN</td>\n      <td>6372</td>\n      <td>[Circle Pines, MN, United States]</td>\n      <td>[{'label': 'display', 'lat': 45.12759017944336...</td>\n      <td>45.127590</td>\n      <td>-93.148796</td>\n      <td>NaN</td>\n      <td>MN</td>\n      <td>526ae4ef11d264eae1f11d6b</td>\n    </tr>\n    <tr>\n      <th>2</th>\n      <td>Indian Garden Restaurant</td>\n      <td>Indian Restaurant</td>\n      <td>4920 Central Ave NE</td>\n      <td>US</td>\n      <td>Minneapolis</td>\n      <td>United States</td>\n      <td>NaN</td>\n      <td>9514</td>\n      <td>[4920 Central Ave NE, Minneapolis, MN 55421, U...</td>\n      <td>[{'label': 'display', 'lat': 45.05788743495941...</td>\n      <td>45.057887</td>\n      <td>-93.247584</td>\n      <td>55421</td>\n      <td>MN</td>\n      <td>4df4054ce4cda09e6da55fe3</td>\n    </tr>\n    <tr>\n      <th>3</th>\n      <td>Taj Indian Grill</td>\n      <td>Indian Restaurant</td>\n      <td>2700 39th Ave NE</td>\n      <td>US</td>\n      <td>Minneapolis</td>\n      <td>United States</td>\n      <td>NaN</td>\n      <td>8150</td>\n      <td>[2700 39th Ave NE, Minneapolis, MN 55421, Unit...</td>\n      <td>[{'label': 'display', 'lat': 45.039192, 'lng':...</td>\n      <td>45.039192</td>\n      <td>-93.220803</td>\n      <td>55421</td>\n      <td>MN</td>\n      <td>4f32b05119836c91c7f0109b</td>\n    </tr>\n    <tr>\n      <th>4</th>\n      <td>Maharaja Indian Cuisine</td>\n      <td>Indian Restaurant</td>\n      <td>8492</td>\n      <td>US</td>\n      <td>Spring Lake Park</td>\n      <td>United States</td>\n      <td>Central Ave NE</td>\n      <td>10270</td>\n      <td>[8492 (Central Ave NE), Spring Lake Park, MN 5...</td>\n      <td>[{'label': 'display', 'lat': 45.12464039227090...</td>\n      <td>45.124640</td>\n      <td>-93.235830</td>\n      <td>55432</td>\n      <td>MN</td>\n      <td>583940ec7b43b4128ad16e0b</td>\n    </tr>\n    <tr>\n      <th>5</th>\n      <td>z indian cuisine</td>\n      <td>Indian Restaurant</td>\n      <td>Maplewood Mall</td>\n      <td>US</td>\n      <td>Saint Paul</td>\n      <td>United States</td>\n      <td>NaN</td>\n      <td>9505</td>\n      <td>[Maplewood Mall, Saint Paul, MN 55109, United ...</td>\n      <td>[{'label': 'display', 'lat': 45.03166508057705...</td>\n      <td>45.031665</td>\n      <td>-93.021909</td>\n      <td>55109</td>\n      <td>MN</td>\n      <td>50536d80e4b09ebc6e462c44</td>\n    </tr>\n    <tr>\n      <th>6</th>\n      <td>Jalsa Indian Fast Food</td>\n      <td>Indian Restaurant</td>\n      <td>855 45th Ave NE</td>\n      <td>US</td>\n      <td>Hilltop</td>\n      <td>United States</td>\n      <td>Central Ave.</td>\n      <td>9811</td>\n      <td>[855 45th Ave NE (Central Ave.), Hilltop, MN 5...</td>\n      <td>[{'label': 'display', 'lat': 45.05032652327296...</td>\n      <td>45.050327</td>\n      <td>-93.249157</td>\n      <td>55421</td>\n      <td>MN</td>\n      <td>4baf96faf964a520bf0d3ce3</td>\n    </tr>\n  </tbody>\n</table>\n</div>",
                        "text/plain": "                            name         categories               address  cc  \\\n0  Indian Land Tenure Foundation         Non-Profit  151 County Road B2 E  US   \n1              Indian Hills Park               Park                   NaN  US   \n2       Indian Garden Restaurant  Indian Restaurant   4920 Central Ave NE  US   \n3               Taj Indian Grill  Indian Restaurant      2700 39th Ave NE  US   \n4        Maharaja Indian Cuisine  Indian Restaurant                  8492  US   \n5               z indian cuisine  Indian Restaurant        Maplewood Mall  US   \n6         Jalsa Indian Fast Food  Indian Restaurant       855 45th Ave NE  US   \n\n               city        country     crossStreet  distance  \\\n0        Saint Paul  United States             NaN      7012   \n1      Circle Pines  United States             NaN      6372   \n2       Minneapolis  United States             NaN      9514   \n3       Minneapolis  United States             NaN      8150   \n4  Spring Lake Park  United States  Central Ave NE     10270   \n5        Saint Paul  United States             NaN      9505   \n6           Hilltop  United States    Central Ave.      9811   \n\n                                    formattedAddress  \\\n0  [151 County Road B2 E, Saint Paul, MN 55117, U...   \n1                  [Circle Pines, MN, United States]   \n2  [4920 Central Ave NE, Minneapolis, MN 55421, U...   \n3  [2700 39th Ave NE, Minneapolis, MN 55421, Unit...   \n4  [8492 (Central Ave NE), Spring Lake Park, MN 5...   \n5  [Maplewood Mall, Saint Paul, MN 55109, United ...   \n6  [855 45th Ave NE (Central Ave.), Hilltop, MN 5...   \n\n                                      labeledLatLngs        lat        lng  \\\n0  [{'label': 'display', 'lat': 45.01359939575195...  45.013599 -93.095596   \n1  [{'label': 'display', 'lat': 45.12759017944336...  45.127590 -93.148796   \n2  [{'label': 'display', 'lat': 45.05788743495941...  45.057887 -93.247584   \n3  [{'label': 'display', 'lat': 45.039192, 'lng':...  45.039192 -93.220803   \n4  [{'label': 'display', 'lat': 45.12464039227090...  45.124640 -93.235830   \n5  [{'label': 'display', 'lat': 45.03166508057705...  45.031665 -93.021909   \n6  [{'label': 'display', 'lat': 45.05032652327296...  45.050327 -93.249157   \n\n  postalCode state                        id  \n0      55117    MN  5018246fe4b0e3bcfc59468b  \n1        NaN    MN  526ae4ef11d264eae1f11d6b  \n2      55421    MN  4df4054ce4cda09e6da55fe3  \n3      55421    MN  4f32b05119836c91c7f0109b  \n4      55432    MN  583940ec7b43b4128ad16e0b  \n5      55109    MN  50536d80e4b09ebc6e462c44  \n6      55421    MN  4baf96faf964a520bf0d3ce3  "
                    },
                    "execution_count": 80,
                    "metadata": {},
                    "output_type": "execute_result"
                }
            ],
            "source": "# keep only columns that include venue name, and anything that is associated with location\nfiltered_columns = ['name', 'categories'] + [col for col in dataframe.columns if col.startswith('location.')] + ['id']\ndataframe_filtered = dataframe.loc[:, filtered_columns]\n\n# function that extracts the category of the venue\ndef get_category_type(row):\n    try:\n        categories_list = row['categories']\n    except:\n        categories_list = row['venue.categories']\n        \n    if len(categories_list) == 0:\n        return None\n    else:\n        return categories_list[0]['name']\n\n# filter the category for each row\ndataframe_filtered['categories'] = dataframe_filtered.apply(get_category_type, axis=1)\n\n# clean column names by keeping only last term\ndataframe_filtered.columns = [column.split('.')[-1] for column in dataframe_filtered.columns]\n\ndataframe_filtered"
        },
        {
            "cell_type": "markdown",
            "metadata": {},
            "source": "###### This shows that there is a demand for Indian grocery stores in Shoreview, MN."
        }
    ],
    "metadata": {
        "kernelspec": {
            "display_name": "Python 3.6",
            "language": "python",
            "name": "python3"
        },
        "language_info": {
            "codemirror_mode": {
                "name": "ipython",
                "version": 3
            },
            "file_extension": ".py",
            "mimetype": "text/x-python",
            "name": "python",
            "nbconvert_exporter": "python",
            "pygments_lexer": "ipython3",
            "version": "3.6.9"
        }
    },
    "nbformat": 4,
    "nbformat_minor": 1
}